{
 "cells": [
  {
   "cell_type": "code",
   "execution_count": 3,
   "id": "f1385f10",
   "metadata": {},
   "outputs": [
    {
     "name": "stdout",
     "output_type": "stream",
     "text": [
      ":: Welcome to Steganography ::\n",
      "1. Encode\n",
      "2. Decode\n",
      "2\n",
      "Enter image name(with extension) : bill_img_message.png\n",
      "Decoded Word : Hello\n"
     ]
    }
   ],
   "source": [
    "from PIL import Image\n",
    "def genData(data):\n",
    "\t\tnewd = []\n",
    "\t\tfor i in data:\n",
    "\t\t\tnewd.append(format(ord(i), '08b'))\n",
    "\t\treturn newd\n",
    "def modPix(pix, data):\n",
    "\tdatalist = genData(data)\n",
    "\tlendata = len(datalist)\n",
    "\timdata = iter(pix)\n",
    "\tfor i in range(lendata):\n",
    "\t\tpix = [value for value in imdata.__next__()[:3] +\n",
    "\t\t\t\t\t\t\t\timdata.__next__()[:3] +\n",
    "\t\t\t\t\t\t\t\timdata.__next__()[:3]]\n",
    "\t\tfor j in range(0, 8):\n",
    "\t\t\tif (datalist[i][j] == '0' and pix[j]% 2 != 0):\n",
    "\t\t\t\tpix[j] -= 1\n",
    "\t\t\telif (datalist[i][j] == '1' and pix[j] % 2 == 0):\n",
    "\t\t\t\tif(pix[j] != 0):\n",
    "\t\t\t\t\tpix[j] -= 1\n",
    "\t\t\t\telse:\n",
    "\t\t\t\t\tpix[j] += 1\n",
    "\t\tif (i == lendata - 1):\n",
    "\t\t\tif (pix[-1] % 2 == 0):\n",
    "\t\t\t\tif(pix[-1] != 0):\n",
    "\t\t\t\t\tpix[-1] -= 1\n",
    "\t\t\t\telse:\n",
    "\t\t\t\t\tpix[-1] += 1\n",
    "\t\telse:\n",
    "\t\t\tif (pix[-1] % 2 != 0):\n",
    "\t\t\t\tpix[-1] -= 1\n",
    "\t\tpix = tuple(pix)\n",
    "\t\tyield pix[0:3]\n",
    "\t\tyield pix[3:6]\n",
    "\t\tyield pix[6:9]\n",
    "def encode_enc(newimg, data):\n",
    "\tw = newimg.size[0]\n",
    "\t(x, y) = (0, 0)\n",
    "\tfor pixel in modPix(newimg.getdata(), data):\n",
    "\t\tnewimg.putpixel((x, y), pixel)\n",
    "\t\tif (x == w - 1):\n",
    "\t\t\tx = 0\n",
    "\t\t\ty += 1\n",
    "\t\telse:\n",
    "\t\t\tx += 1\n",
    "def encode():\n",
    "\timg = input(\"Enter image name(with extension) : \")\n",
    "\timage = Image.open(img, 'r')\n",
    "\tdata = input(\"Enter data to be encoded : \")\n",
    "\tif (len(data) == 0):\n",
    "\t\traise ValueError('Data is empty')\n",
    "\tnewimg = image.copy()\n",
    "\tencode_enc(newimg, data)\n",
    "\tnew_img_name = input(\"Enter the name of new image(with extension) : \")\n",
    "\tnewimg.save(new_img_name, str(new_img_name.split(\".\")[1].upper()))\n",
    "def decode():\n",
    "\timg = input(\"Enter image name(with extension) : \")\n",
    "\timage = Image.open(img, 'r')\n",
    "\tdata = ''\n",
    "\timgdata = iter(image.getdata())\n",
    "\twhile (True):\n",
    "\t\tpixels = [value for value in imgdata.__next__()[:3] +\n",
    "\t\t\t\t\t\t\t\timgdata.__next__()[:3] +\n",
    "\t\t\t\t\t\t\t\timgdata.__next__()[:3]]\n",
    "\t\tbinstr = ''\n",
    "\t\tfor i in pixels[:8]:\n",
    "\t\t\tif (i % 2 == 0):\n",
    "\t\t\t\tbinstr += '0'\n",
    "\t\t\telse:\n",
    "\t\t\t\tbinstr += '1'\n",
    "\t\tdata += chr(int(binstr, 2))\n",
    "\t\tif (pixels[-1] % 2 != 0):\n",
    "\t\t\treturn data\n",
    "def main():\n",
    "\ta = int(input(\":: Welcome to Steganography ::\\n\"\n",
    "\t\t\t\t\t\t\"1. Encode\\n2. Decode\\n\"))\n",
    "\tif (a == 1):\n",
    "\t\tencode()\n",
    "\telif (a == 2):\n",
    "\t\tprint(\"Decoded Word : \" + decode())\n",
    "\telse:\n",
    "\t\traise Exception(\"Enter correct input\")\n",
    "if __name__ == '__main__' :\n",
    "\tmain()"
   ]
  },
  {
   "cell_type": "code",
   "execution_count": null,
   "id": "d0cf7e8b",
   "metadata": {},
   "outputs": [],
   "source": []
  }
 ],
 "metadata": {
  "kernelspec": {
   "display_name": "Python 3",
   "language": "python",
   "name": "python3"
  },
  "language_info": {
   "codemirror_mode": {
    "name": "ipython",
    "version": 3
   },
   "file_extension": ".py",
   "mimetype": "text/x-python",
   "name": "python",
   "nbconvert_exporter": "python",
   "pygments_lexer": "ipython3",
   "version": "3.8.10"
  },
  "varInspector": {
   "cols": {
    "lenName": 16,
    "lenType": 16,
    "lenVar": 40
   },
   "kernels_config": {
    "python": {
     "delete_cmd_postfix": "",
     "delete_cmd_prefix": "del ",
     "library": "var_list.py",
     "varRefreshCmd": "print(var_dic_list())"
    },
    "r": {
     "delete_cmd_postfix": ") ",
     "delete_cmd_prefix": "rm(",
     "library": "var_list.r",
     "varRefreshCmd": "cat(var_dic_list()) "
    }
   },
   "types_to_exclude": [
    "module",
    "function",
    "builtin_function_or_method",
    "instance",
    "_Feature"
   ],
   "window_display": false
  }
 },
 "nbformat": 4,
 "nbformat_minor": 5
}
